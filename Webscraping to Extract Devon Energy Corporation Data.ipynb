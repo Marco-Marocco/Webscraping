{
 "cells": [
  {
   "cell_type": "markdown",
   "id": "dfb3b9b9",
   "metadata": {},
   "source": [
    "<h1>Webscraping to Extract Devon Energy Corporation Data</h1>\n"
   ]
  },
  {
   "cell_type": "markdown",
   "id": "b9543b30-9234-4fb9-8251-8fe7af3e9dcf",
   "metadata": {},
   "source": [
    "I will use the requests library to download the webpage https://finance.yahoo.com/quote/DVN/history?p=DVN. Then I will save the text of the response in a pandas dataframe to be further analysed.\n"
   ]
  },
  {
   "cell_type": "code",
   "execution_count": 7,
   "id": "440358a1",
   "metadata": {},
   "outputs": [],
   "source": [
    "import pandas as pd\n",
    "from bs4 import BeautifulSoup \n",
    "import requests "
   ]
  },
  {
   "cell_type": "code",
   "execution_count": 8,
   "id": "618543f3",
   "metadata": {},
   "outputs": [],
   "source": [
    "url='https://finance.yahoo.com/quote/DVN/history?p=DVN'\n",
    "html_data= requests.get(url).text\n",
    "\n",
    "headers = {\n",
    "    \"User-Agent\": \"Mozilla/5.0 (X11; Ubuntu; Linux x86_64; rv:89.0) Gecko/20100101 Firefox/89.0\"\n",
    "}\n",
    "\n"
   ]
  },
  {
   "cell_type": "code",
   "execution_count": 9,
   "id": "6e5359af-33bc-41a5-8d87-f0f658b0b1ec",
   "metadata": {},
   "outputs": [],
   "source": [
    "soup = BeautifulSoup(requests.get(url, headers=headers).content, \"html.parser\")"
   ]
  },
  {
   "cell_type": "code",
   "execution_count": 10,
   "id": "cb4add1b",
   "metadata": {},
   "outputs": [],
   "source": [
    "#find all html tables in the web page\n",
    "tables = soup.find_all('table')"
   ]
  },
  {
   "cell_type": "code",
   "execution_count": 11,
   "id": "6a71a0e8",
   "metadata": {},
   "outputs": [
    {
     "name": "stdout",
     "output_type": "stream",
     "text": [
      "Number of tables:  1\n"
     ]
    }
   ],
   "source": [
    "# we can see how many tables were found by checking the length of the tables list\n",
    "print('Number of tables: ',len(tables))"
   ]
  },
  {
   "cell_type": "code",
   "execution_count": 12,
   "id": "63f76030",
   "metadata": {},
   "outputs": [
    {
     "name": "stdout",
     "output_type": "stream",
     "text": [
      "All the tables:  [                                                  Date  \\\n",
      "0                                         Dec 08, 2022   \n",
      "1                                         Dec 07, 2022   \n",
      "2                                         Dec 06, 2022   \n",
      "3                                         Dec 05, 2022   \n",
      "4                                         Dec 02, 2022   \n",
      "..                                                 ...   \n",
      "96                                        Jul 26, 2022   \n",
      "97                                        Jul 25, 2022   \n",
      "98                                        Jul 22, 2022   \n",
      "99                                        Jul 21, 2022   \n",
      "100  *Close price adjusted for splits.**Adjusted cl...   \n",
      "\n",
      "                                                  Open  \\\n",
      "0                                                65.90   \n",
      "1                                                64.57   \n",
      "2                                                66.00   \n",
      "3                                                69.75   \n",
      "4                                                68.00   \n",
      "..                                                 ...   \n",
      "96                                               59.00   \n",
      "97                                               56.02   \n",
      "98                                               56.38   \n",
      "99                                               55.80   \n",
      "100  *Close price adjusted for splits.**Adjusted cl...   \n",
      "\n",
      "                                                  High  \\\n",
      "0                                                66.38   \n",
      "1                                                65.46   \n",
      "2                                                67.26   \n",
      "3                                                70.42   \n",
      "4                                                69.48   \n",
      "..                                                 ...   \n",
      "96                                               59.19   \n",
      "97                                               58.06   \n",
      "98                                               57.28   \n",
      "99                                               56.26   \n",
      "100  *Close price adjusted for splits.**Adjusted cl...   \n",
      "\n",
      "                                                   Low  \\\n",
      "0                                                63.05   \n",
      "1                                                63.40   \n",
      "2                                                63.64   \n",
      "3                                                65.85   \n",
      "4                                                68.00   \n",
      "..                                                 ...   \n",
      "96                                               55.76   \n",
      "97                                               55.27   \n",
      "98                                               54.91   \n",
      "99                                               54.19   \n",
      "100  *Close price adjusted for splits.**Adjusted cl...   \n",
      "\n",
      "                                                Close*  \\\n",
      "0                                                63.50   \n",
      "1                                                64.25   \n",
      "2                                                64.13   \n",
      "3                                                66.55   \n",
      "4                                                68.46   \n",
      "..                                                 ...   \n",
      "96                                               56.76   \n",
      "97                                               57.97   \n",
      "98                                               55.19   \n",
      "99                                               56.20   \n",
      "100  *Close price adjusted for splits.**Adjusted cl...   \n",
      "\n",
      "                                           Adj Close**  \\\n",
      "0                                                63.50   \n",
      "1                                                64.25   \n",
      "2                                                64.13   \n",
      "3                                                66.55   \n",
      "4                                                68.46   \n",
      "..                                                 ...   \n",
      "96                                               55.48   \n",
      "97                                               56.67   \n",
      "98                                               53.95   \n",
      "99                                               54.94   \n",
      "100  *Close price adjusted for splits.**Adjusted cl...   \n",
      "\n",
      "                                                Volume  \n",
      "0                                             13274889  \n",
      "1                                             10523200  \n",
      "2                                             10278500  \n",
      "3                                             11218100  \n",
      "4                                              8239500  \n",
      "..                                                 ...  \n",
      "96                                             9777700  \n",
      "97                                             8473200  \n",
      "98                                             6315800  \n",
      "99                                             8150400  \n",
      "100  *Close price adjusted for splits.**Adjusted cl...  \n",
      "\n",
      "[101 rows x 7 columns]]\n"
     ]
    }
   ],
   "source": [
    "print('All the tables: ', pd.read_html(str(tables), flavor='bs4'))"
   ]
  },
  {
   "cell_type": "code",
   "execution_count": 13,
   "id": "564611c4",
   "metadata": {
    "scrolled": true
   },
   "outputs": [
    {
     "data": {
      "text/html": [
       "<div>\n",
       "<style scoped>\n",
       "    .dataframe tbody tr th:only-of-type {\n",
       "        vertical-align: middle;\n",
       "    }\n",
       "\n",
       "    .dataframe tbody tr th {\n",
       "        vertical-align: top;\n",
       "    }\n",
       "\n",
       "    .dataframe thead th {\n",
       "        text-align: right;\n",
       "    }\n",
       "</style>\n",
       "<table border=\"1\" class=\"dataframe\">\n",
       "  <thead>\n",
       "    <tr style=\"text-align: right;\">\n",
       "      <th></th>\n",
       "      <th>Date</th>\n",
       "      <th>Open</th>\n",
       "      <th>High</th>\n",
       "      <th>Low</th>\n",
       "      <th>Close*</th>\n",
       "      <th>Adj Close**</th>\n",
       "      <th>Volume</th>\n",
       "    </tr>\n",
       "  </thead>\n",
       "  <tbody>\n",
       "    <tr>\n",
       "      <th>0</th>\n",
       "      <td>Dec 08, 2022</td>\n",
       "      <td>65.90</td>\n",
       "      <td>66.38</td>\n",
       "      <td>63.05</td>\n",
       "      <td>63.50</td>\n",
       "      <td>63.50</td>\n",
       "      <td>13274889</td>\n",
       "    </tr>\n",
       "    <tr>\n",
       "      <th>1</th>\n",
       "      <td>Dec 07, 2022</td>\n",
       "      <td>64.57</td>\n",
       "      <td>65.46</td>\n",
       "      <td>63.40</td>\n",
       "      <td>64.25</td>\n",
       "      <td>64.25</td>\n",
       "      <td>10523200</td>\n",
       "    </tr>\n",
       "    <tr>\n",
       "      <th>2</th>\n",
       "      <td>Dec 06, 2022</td>\n",
       "      <td>66.00</td>\n",
       "      <td>67.26</td>\n",
       "      <td>63.64</td>\n",
       "      <td>64.13</td>\n",
       "      <td>64.13</td>\n",
       "      <td>10278500</td>\n",
       "    </tr>\n",
       "    <tr>\n",
       "      <th>3</th>\n",
       "      <td>Dec 05, 2022</td>\n",
       "      <td>69.75</td>\n",
       "      <td>70.42</td>\n",
       "      <td>65.85</td>\n",
       "      <td>66.55</td>\n",
       "      <td>66.55</td>\n",
       "      <td>11218100</td>\n",
       "    </tr>\n",
       "    <tr>\n",
       "      <th>4</th>\n",
       "      <td>Dec 02, 2022</td>\n",
       "      <td>68.00</td>\n",
       "      <td>69.48</td>\n",
       "      <td>68.00</td>\n",
       "      <td>68.46</td>\n",
       "      <td>68.46</td>\n",
       "      <td>8239500</td>\n",
       "    </tr>\n",
       "  </tbody>\n",
       "</table>\n",
       "</div>"
      ],
      "text/plain": [
       "           Date   Open   High    Low Close* Adj Close**    Volume\n",
       "0  Dec 08, 2022  65.90  66.38  63.05  63.50       63.50  13274889\n",
       "1  Dec 07, 2022  64.57  65.46  63.40  64.25       64.25  10523200\n",
       "2  Dec 06, 2022  66.00  67.26  63.64  64.13       64.13  10278500\n",
       "3  Dec 05, 2022  69.75  70.42  65.85  66.55       66.55  11218100\n",
       "4  Dec 02, 2022  68.00  69.48  68.00  68.46       68.46   8239500"
      ]
     },
     "execution_count": 13,
     "metadata": {},
     "output_type": "execute_result"
    }
   ],
   "source": [
    "#FINAL pandas Dataframe of the Table:\n",
    "df = pd.read_html(str(tables[0]), flavor='bs4')[0] \n",
    "\n",
    "df.head()"
   ]
  },
  {
   "cell_type": "code",
   "execution_count": null,
   "id": "e6f4e9b5",
   "metadata": {},
   "outputs": [],
   "source": []
  }
 ],
 "metadata": {
  "kernelspec": {
   "display_name": "Python 3 (ipykernel)",
   "language": "python",
   "name": "python3"
  },
  "language_info": {
   "codemirror_mode": {
    "name": "ipython",
    "version": 3
   },
   "file_extension": ".py",
   "mimetype": "text/x-python",
   "name": "python",
   "nbconvert_exporter": "python",
   "pygments_lexer": "ipython3",
   "version": "3.10.9"
  }
 },
 "nbformat": 4,
 "nbformat_minor": 5
}
