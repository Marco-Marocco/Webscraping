{
 "cells": [
  {
   "cell_type": "markdown",
   "id": "db253e9f",
   "metadata": {},
   "source": [
    "<h1>Webscraping to Extract Netflix Stock Data</h1>\n"
   ]
  },
  {
   "cell_type": "markdown",
   "id": "b9543b30-9234-4fb9-8251-8fe7af3e9dcf",
   "metadata": {},
   "source": [
    "I will use the requests library to download the webpage <https://cf-courses-data.s3.us.cloud-object-storage.appdomain.cloud/IBMDeveloperSkillsNetwork-PY0220EN-SkillsNetwork/labs/project/netflix_data_webpage.html>. Then I will save the text of the response in a pandas dataframe to be further analysed.\n"
   ]
  },
  {
   "cell_type": "code",
   "execution_count": 1,
   "id": "440358a1",
   "metadata": {},
   "outputs": [],
   "source": [
    "import pandas as pd\n",
    "from bs4 import BeautifulSoup \n",
    "import requests "
   ]
  },
  {
   "cell_type": "code",
   "execution_count": 2,
   "id": "dd853247",
   "metadata": {},
   "outputs": [],
   "source": [
    "url = \"https://cf-courses-data.s3.us.cloud-object-storage.appdomain.cloud/IBMDeveloperSkillsNetwork-PY0220EN-SkillsNetwork/labs/project/netflix_data_webpage.html\"\n",
    "\n",
    "data  =requests.get(url).text"
   ]
  },
  {
   "cell_type": "code",
   "execution_count": 3,
   "id": "6e5359af-33bc-41a5-8d87-f0f658b0b1ec",
   "metadata": {},
   "outputs": [],
   "source": [
    "soup = BeautifulSoup(data, \"html.parser\")"
   ]
  },
  {
   "cell_type": "code",
   "execution_count": 4,
   "id": "cb4add1b",
   "metadata": {},
   "outputs": [],
   "source": [
    "#find all html tables in the web page\n",
    "tables = soup.find_all('table')"
   ]
  },
  {
   "cell_type": "code",
   "execution_count": 5,
   "id": "6a71a0e8",
   "metadata": {},
   "outputs": [
    {
     "name": "stdout",
     "output_type": "stream",
     "text": [
      "Number of tables:  1\n"
     ]
    }
   ],
   "source": [
    "# we can see how many tables were found by checking the length of the tables list\n",
    "print('Number of tables: ',len(tables))"
   ]
  },
  {
   "cell_type": "code",
   "execution_count": 6,
   "id": "63f76030",
   "metadata": {
    "scrolled": true
   },
   "outputs": [
    {
     "name": "stdout",
     "output_type": "stream",
     "text": [
      "All the tables:  [                                                 Date  \\\n",
      "0                                        Jun 01, 2021   \n",
      "1                                        May 01, 2021   \n",
      "2                                        Apr 01, 2021   \n",
      "3                                        Mar 01, 2021   \n",
      "4                                        Feb 01, 2021   \n",
      "..                                                ...   \n",
      "66                                       Dec 01, 2015   \n",
      "67                                       Nov 01, 2015   \n",
      "68                                       Oct 01, 2015   \n",
      "69                                       Sep 01, 2015   \n",
      "70  *Close price adjusted for splits.**Adjusted cl...   \n",
      "\n",
      "                                                 Open  \\\n",
      "0                                              504.01   \n",
      "1                                              512.65   \n",
      "2                                              529.93   \n",
      "3                                              545.57   \n",
      "4                                              536.79   \n",
      "..                                                ...   \n",
      "66                                             124.47   \n",
      "67                                             109.20   \n",
      "68                                             102.91   \n",
      "69                                             109.35   \n",
      "70  *Close price adjusted for splits.**Adjusted cl...   \n",
      "\n",
      "                                                 High  \\\n",
      "0                                              536.13   \n",
      "1                                              518.95   \n",
      "2                                              563.56   \n",
      "3                                              556.99   \n",
      "4                                              566.65   \n",
      "..                                                ...   \n",
      "66                                             133.27   \n",
      "67                                             126.60   \n",
      "68                                             115.83   \n",
      "69                                             111.24   \n",
      "70  *Close price adjusted for splits.**Adjusted cl...   \n",
      "\n",
      "                                                  Low  \\\n",
      "0                                              482.14   \n",
      "1                                              478.54   \n",
      "2                                              499.00   \n",
      "3                                              492.85   \n",
      "4                                              518.28   \n",
      "..                                                ...   \n",
      "66                                             113.85   \n",
      "67                                             101.86   \n",
      "68                                              96.26   \n",
      "69                                              93.55   \n",
      "70  *Close price adjusted for splits.**Adjusted cl...   \n",
      "\n",
      "                                               Close*  \\\n",
      "0                                              528.21   \n",
      "1                                              502.81   \n",
      "2                                              513.47   \n",
      "3                                              521.66   \n",
      "4                                              538.85   \n",
      "..                                                ...   \n",
      "66                                             114.38   \n",
      "67                                             123.33   \n",
      "68                                             108.38   \n",
      "69                                             103.26   \n",
      "70  *Close price adjusted for splits.**Adjusted cl...   \n",
      "\n",
      "                                          Adj Close**  \\\n",
      "0                                              528.21   \n",
      "1                                              502.81   \n",
      "2                                              513.47   \n",
      "3                                              521.66   \n",
      "4                                              538.85   \n",
      "..                                                ...   \n",
      "66                                             114.38   \n",
      "67                                             123.33   \n",
      "68                                             108.38   \n",
      "69                                             103.26   \n",
      "70  *Close price adjusted for splits.**Adjusted cl...   \n",
      "\n",
      "                                               Volume  \n",
      "0                                            78560600  \n",
      "1                                            66927600  \n",
      "2                                           111573300  \n",
      "3                                            90183900  \n",
      "4                                            61902300  \n",
      "..                                                ...  \n",
      "66                                          319939200  \n",
      "67                                          320321800  \n",
      "68                                          446204400  \n",
      "69                                          497401200  \n",
      "70  *Close price adjusted for splits.**Adjusted cl...  \n",
      "\n",
      "[71 rows x 7 columns]]\n"
     ]
    }
   ],
   "source": [
    "print('All the tables: ', pd.read_html(str(tables), flavor='bs4'))"
   ]
  },
  {
   "cell_type": "code",
   "execution_count": 7,
   "id": "564611c4",
   "metadata": {},
   "outputs": [
    {
     "data": {
      "text/html": [
       "<div>\n",
       "<style scoped>\n",
       "    .dataframe tbody tr th:only-of-type {\n",
       "        vertical-align: middle;\n",
       "    }\n",
       "\n",
       "    .dataframe tbody tr th {\n",
       "        vertical-align: top;\n",
       "    }\n",
       "\n",
       "    .dataframe thead th {\n",
       "        text-align: right;\n",
       "    }\n",
       "</style>\n",
       "<table border=\"1\" class=\"dataframe\">\n",
       "  <thead>\n",
       "    <tr style=\"text-align: right;\">\n",
       "      <th></th>\n",
       "      <th>Date</th>\n",
       "      <th>Open</th>\n",
       "      <th>High</th>\n",
       "      <th>Low</th>\n",
       "      <th>Close*</th>\n",
       "      <th>Adj Close**</th>\n",
       "      <th>Volume</th>\n",
       "    </tr>\n",
       "  </thead>\n",
       "  <tbody>\n",
       "    <tr>\n",
       "      <th>0</th>\n",
       "      <td>Jun 01, 2021</td>\n",
       "      <td>504.01</td>\n",
       "      <td>536.13</td>\n",
       "      <td>482.14</td>\n",
       "      <td>528.21</td>\n",
       "      <td>528.21</td>\n",
       "      <td>78560600</td>\n",
       "    </tr>\n",
       "    <tr>\n",
       "      <th>1</th>\n",
       "      <td>May 01, 2021</td>\n",
       "      <td>512.65</td>\n",
       "      <td>518.95</td>\n",
       "      <td>478.54</td>\n",
       "      <td>502.81</td>\n",
       "      <td>502.81</td>\n",
       "      <td>66927600</td>\n",
       "    </tr>\n",
       "    <tr>\n",
       "      <th>2</th>\n",
       "      <td>Apr 01, 2021</td>\n",
       "      <td>529.93</td>\n",
       "      <td>563.56</td>\n",
       "      <td>499.00</td>\n",
       "      <td>513.47</td>\n",
       "      <td>513.47</td>\n",
       "      <td>111573300</td>\n",
       "    </tr>\n",
       "    <tr>\n",
       "      <th>3</th>\n",
       "      <td>Mar 01, 2021</td>\n",
       "      <td>545.57</td>\n",
       "      <td>556.99</td>\n",
       "      <td>492.85</td>\n",
       "      <td>521.66</td>\n",
       "      <td>521.66</td>\n",
       "      <td>90183900</td>\n",
       "    </tr>\n",
       "    <tr>\n",
       "      <th>4</th>\n",
       "      <td>Feb 01, 2021</td>\n",
       "      <td>536.79</td>\n",
       "      <td>566.65</td>\n",
       "      <td>518.28</td>\n",
       "      <td>538.85</td>\n",
       "      <td>538.85</td>\n",
       "      <td>61902300</td>\n",
       "    </tr>\n",
       "  </tbody>\n",
       "</table>\n",
       "</div>"
      ],
      "text/plain": [
       "           Date    Open    High     Low  Close* Adj Close**     Volume\n",
       "0  Jun 01, 2021  504.01  536.13  482.14  528.21      528.21   78560600\n",
       "1  May 01, 2021  512.65  518.95  478.54  502.81      502.81   66927600\n",
       "2  Apr 01, 2021  529.93  563.56  499.00  513.47      513.47  111573300\n",
       "3  Mar 01, 2021  545.57  556.99  492.85  521.66      521.66   90183900\n",
       "4  Feb 01, 2021  536.79  566.65  518.28  538.85      538.85   61902300"
      ]
     },
     "execution_count": 7,
     "metadata": {},
     "output_type": "execute_result"
    }
   ],
   "source": [
    "#FINAL pandas Dataframe of the Table:\n",
    "df = pd.read_html(str(tables[0]), flavor='bs4')[0] \n",
    "\n",
    "df.head()"
   ]
  },
  {
   "cell_type": "code",
   "execution_count": null,
   "id": "b329cb78",
   "metadata": {},
   "outputs": [],
   "source": []
  },
  {
   "cell_type": "code",
   "execution_count": null,
   "id": "949b4108",
   "metadata": {},
   "outputs": [],
   "source": []
  },
  {
   "cell_type": "code",
   "execution_count": null,
   "id": "ecf7b27b",
   "metadata": {},
   "outputs": [],
   "source": []
  }
 ],
 "metadata": {
  "kernelspec": {
   "display_name": "Python 3 (ipykernel)",
   "language": "python",
   "name": "python3"
  },
  "language_info": {
   "codemirror_mode": {
    "name": "ipython",
    "version": 3
   },
   "file_extension": ".py",
   "mimetype": "text/x-python",
   "name": "python",
   "nbconvert_exporter": "python",
   "pygments_lexer": "ipython3",
   "version": "3.10.8"
  }
 },
 "nbformat": 4,
 "nbformat_minor": 5
}
