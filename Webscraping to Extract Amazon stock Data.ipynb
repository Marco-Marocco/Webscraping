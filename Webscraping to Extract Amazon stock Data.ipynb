{
 "cells": [
  {
   "cell_type": "markdown",
   "id": "dfb3b9b9",
   "metadata": {},
   "source": [
    "<h1>Webscraping to Extract Amazon stock Data</h1>\n"
   ]
  },
  {
   "cell_type": "markdown",
   "id": "b9543b30-9234-4fb9-8251-8fe7af3e9dcf",
   "metadata": {},
   "source": [
    "I will use the requests library to download the webpage <https://cf-courses-data.s3.us.cloud-object-storage.appdomain.cloud/IBMDeveloperSkillsNetwork-PY0220EN-SkillsNetwork/labs/project/amazon_data_webpage.html>. Then I will save the text of the response in a pandas dataframe to be further analysed.\n"
   ]
  },
  {
   "cell_type": "code",
   "execution_count": 7,
   "id": "440358a1",
   "metadata": {},
   "outputs": [],
   "source": [
    "import pandas as pd\n",
    "from bs4 import BeautifulSoup \n",
    "import requests "
   ]
  },
  {
   "cell_type": "code",
   "execution_count": 8,
   "id": "618543f3",
   "metadata": {},
   "outputs": [],
   "source": [
    "url='https://cf-courses-data.s3.us.cloud-object-storage.appdomain.cloud/IBMDeveloperSkillsNetwork-PY0220EN-SkillsNetwork/labs/project/amazon_data_webpage.html'\n",
    "html_data= requests.get(url).text"
   ]
  },
  {
   "cell_type": "code",
   "execution_count": 9,
   "id": "6e5359af-33bc-41a5-8d87-f0f658b0b1ec",
   "metadata": {},
   "outputs": [],
   "source": [
    "soup = BeautifulSoup(html_data, \"html.parser\")"
   ]
  },
  {
   "cell_type": "code",
   "execution_count": 10,
   "id": "cb4add1b",
   "metadata": {},
   "outputs": [],
   "source": [
    "#find all html tables in the web page\n",
    "tables = soup.find_all('table')"
   ]
  },
  {
   "cell_type": "code",
   "execution_count": 11,
   "id": "6a71a0e8",
   "metadata": {},
   "outputs": [
    {
     "name": "stdout",
     "output_type": "stream",
     "text": [
      "Number of tables:  1\n"
     ]
    }
   ],
   "source": [
    "# we can see how many tables were found by checking the length of the tables list\n",
    "print('Number of tables: ',len(tables))"
   ]
  },
  {
   "cell_type": "code",
   "execution_count": 12,
   "id": "63f76030",
   "metadata": {},
   "outputs": [
    {
     "name": "stdout",
     "output_type": "stream",
     "text": [
      "All the tables:  [                                                 Date  \\\n",
      "0                                        Jan 01, 2021   \n",
      "1                                        Dec 01, 2020   \n",
      "2                                        Nov 01, 2020   \n",
      "3                                        Oct 01, 2020   \n",
      "4                                        Sep 01, 2020   \n",
      "..                                                ...   \n",
      "57                                       Apr 01, 2016   \n",
      "58                                       Mar 01, 2016   \n",
      "59                                       Feb 01, 2016   \n",
      "60                                       Jan 01, 2016   \n",
      "61  *Close price adjusted for splits.**Adjusted cl...   \n",
      "\n",
      "                                                 Open  \\\n",
      "0                                             3270.00   \n",
      "1                                             3188.50   \n",
      "2                                             3061.74   \n",
      "3                                             3208.00   \n",
      "4                                             3489.58   \n",
      "..                                                ...   \n",
      "57                                             590.49   \n",
      "58                                             556.29   \n",
      "59                                             578.15   \n",
      "60                                             656.29   \n",
      "61  *Close price adjusted for splits.**Adjusted cl...   \n",
      "\n",
      "                                                 High  \\\n",
      "0                                             3363.89   \n",
      "1                                             3350.65   \n",
      "2                                             3366.80   \n",
      "3                                             3496.24   \n",
      "4                                             3552.25   \n",
      "..                                                ...   \n",
      "57                                             669.98   \n",
      "58                                             603.24   \n",
      "59                                             581.80   \n",
      "60                                             657.72   \n",
      "61  *Close price adjusted for splits.**Adjusted cl...   \n",
      "\n",
      "                                                  Low  \\\n",
      "0                                             3086.00   \n",
      "1                                             3072.82   \n",
      "2                                             2950.12   \n",
      "3                                             3019.00   \n",
      "4                                             2871.00   \n",
      "..                                                ...   \n",
      "57                                             585.25   \n",
      "58                                             538.58   \n",
      "59                                             474.00   \n",
      "60                                             547.18   \n",
      "61  *Close price adjusted for splits.**Adjusted cl...   \n",
      "\n",
      "                                               Close*  \\\n",
      "0                                             3206.20   \n",
      "1                                             3256.93   \n",
      "2                                             3168.04   \n",
      "3                                             3036.15   \n",
      "4                                             3148.73   \n",
      "..                                                ...   \n",
      "57                                             659.59   \n",
      "58                                             593.64   \n",
      "59                                             552.52   \n",
      "60                                             587.00   \n",
      "61  *Close price adjusted for splits.**Adjusted cl...   \n",
      "\n",
      "                                          Adj Close**  \\\n",
      "0                                             3206.20   \n",
      "1                                             3256.93   \n",
      "2                                             3168.04   \n",
      "3                                             3036.15   \n",
      "4                                             3148.73   \n",
      "..                                                ...   \n",
      "57                                             659.59   \n",
      "58                                             593.64   \n",
      "59                                             552.52   \n",
      "60                                             587.00   \n",
      "61  *Close price adjusted for splits.**Adjusted cl...   \n",
      "\n",
      "                                               Volume  \n",
      "0                                            71528900  \n",
      "1                                            77556200  \n",
      "2                                            90810500  \n",
      "3                                           116226100  \n",
      "4                                           115899300  \n",
      "..                                                ...  \n",
      "57                                           78464200  \n",
      "58                                           94009500  \n",
      "59                                          124144800  \n",
      "60                                          130200900  \n",
      "61  *Close price adjusted for splits.**Adjusted cl...  \n",
      "\n",
      "[62 rows x 7 columns]]\n"
     ]
    }
   ],
   "source": [
    "print('All the tables: ', pd.read_html(str(tables), flavor='bs4'))"
   ]
  },
  {
   "cell_type": "code",
   "execution_count": 15,
   "id": "564611c4",
   "metadata": {
    "scrolled": true
   },
   "outputs": [
    {
     "data": {
      "text/html": [
       "<div>\n",
       "<style scoped>\n",
       "    .dataframe tbody tr th:only-of-type {\n",
       "        vertical-align: middle;\n",
       "    }\n",
       "\n",
       "    .dataframe tbody tr th {\n",
       "        vertical-align: top;\n",
       "    }\n",
       "\n",
       "    .dataframe thead th {\n",
       "        text-align: right;\n",
       "    }\n",
       "</style>\n",
       "<table border=\"1\" class=\"dataframe\">\n",
       "  <thead>\n",
       "    <tr style=\"text-align: right;\">\n",
       "      <th></th>\n",
       "      <th>Date</th>\n",
       "      <th>Open</th>\n",
       "      <th>High</th>\n",
       "      <th>Low</th>\n",
       "      <th>Close*</th>\n",
       "      <th>Adj Close**</th>\n",
       "      <th>Volume</th>\n",
       "    </tr>\n",
       "  </thead>\n",
       "  <tbody>\n",
       "    <tr>\n",
       "      <th>0</th>\n",
       "      <td>Jan 01, 2021</td>\n",
       "      <td>3270.00</td>\n",
       "      <td>3363.89</td>\n",
       "      <td>3086.00</td>\n",
       "      <td>3206.20</td>\n",
       "      <td>3206.20</td>\n",
       "      <td>71528900</td>\n",
       "    </tr>\n",
       "    <tr>\n",
       "      <th>1</th>\n",
       "      <td>Dec 01, 2020</td>\n",
       "      <td>3188.50</td>\n",
       "      <td>3350.65</td>\n",
       "      <td>3072.82</td>\n",
       "      <td>3256.93</td>\n",
       "      <td>3256.93</td>\n",
       "      <td>77556200</td>\n",
       "    </tr>\n",
       "    <tr>\n",
       "      <th>2</th>\n",
       "      <td>Nov 01, 2020</td>\n",
       "      <td>3061.74</td>\n",
       "      <td>3366.80</td>\n",
       "      <td>2950.12</td>\n",
       "      <td>3168.04</td>\n",
       "      <td>3168.04</td>\n",
       "      <td>90810500</td>\n",
       "    </tr>\n",
       "    <tr>\n",
       "      <th>3</th>\n",
       "      <td>Oct 01, 2020</td>\n",
       "      <td>3208.00</td>\n",
       "      <td>3496.24</td>\n",
       "      <td>3019.00</td>\n",
       "      <td>3036.15</td>\n",
       "      <td>3036.15</td>\n",
       "      <td>116226100</td>\n",
       "    </tr>\n",
       "    <tr>\n",
       "      <th>4</th>\n",
       "      <td>Sep 01, 2020</td>\n",
       "      <td>3489.58</td>\n",
       "      <td>3552.25</td>\n",
       "      <td>2871.00</td>\n",
       "      <td>3148.73</td>\n",
       "      <td>3148.73</td>\n",
       "      <td>115899300</td>\n",
       "    </tr>\n",
       "  </tbody>\n",
       "</table>\n",
       "</div>"
      ],
      "text/plain": [
       "           Date     Open     High      Low   Close* Adj Close**     Volume\n",
       "0  Jan 01, 2021  3270.00  3363.89  3086.00  3206.20     3206.20   71528900\n",
       "1  Dec 01, 2020  3188.50  3350.65  3072.82  3256.93     3256.93   77556200\n",
       "2  Nov 01, 2020  3061.74  3366.80  2950.12  3168.04     3168.04   90810500\n",
       "3  Oct 01, 2020  3208.00  3496.24  3019.00  3036.15     3036.15  116226100\n",
       "4  Sep 01, 2020  3489.58  3552.25  2871.00  3148.73     3148.73  115899300"
      ]
     },
     "execution_count": 15,
     "metadata": {},
     "output_type": "execute_result"
    }
   ],
   "source": [
    "#FINAL pandas Dataframe of the Table:\n",
    "df = pd.read_html(str(tables[0]), flavor='bs4')[0] \n",
    "\n",
    "df.head()"
   ]
  },
  {
   "cell_type": "code",
   "execution_count": null,
   "id": "f939515f",
   "metadata": {},
   "outputs": [],
   "source": []
  }
 ],
 "metadata": {
  "kernelspec": {
   "display_name": "Python 3 (ipykernel)",
   "language": "python",
   "name": "python3"
  },
  "language_info": {
   "codemirror_mode": {
    "name": "ipython",
    "version": 3
   },
   "file_extension": ".py",
   "mimetype": "text/x-python",
   "name": "python",
   "nbconvert_exporter": "python",
   "pygments_lexer": "ipython3",
   "version": "3.10.8"
  }
 },
 "nbformat": 4,
 "nbformat_minor": 5
}
